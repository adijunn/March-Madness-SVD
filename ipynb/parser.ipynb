{
 "cells": [
  {
   "cell_type": "code",
   "execution_count": 20,
   "metadata": {},
   "outputs": [],
   "source": [
    "# setup\n",
    "from sklearn.preprocessing import StandardScaler\n",
    "from sklearn.decomposition import PCA\n",
    "import numpy as np\n",
    "import math\n",
    "import matplotlib.pyplot as plt\n",
    "from matplotlib import animation\n",
    "import pandas as pd\n",
    "import scipy.stats as stats\n",
    "#import utils\n",
    "import csv\n",
    "\n",
    "# from model import *\n",
    "%matplotlib inline\n",
    "\n",
    "\n",
    "\n",
    "\n"
   ]
  },
  {
   "cell_type": "code",
   "execution_count": 21,
   "metadata": {},
   "outputs": [],
   "source": [
    "class Team:\n",
    "    def __init__(self, name):\n",
    "        self.name = name\n",
    "        self.stats = []"
   ]
  },
  {
   "cell_type": "code",
   "execution_count": 96,
   "metadata": {},
   "outputs": [],
   "source": [
    "team_dict = {}\n",
    "# parse team names\n",
    "with open('../data/teams.txt') as teams:\n",
    "    team_name_list = teams.readlines()\n",
    "    for team in team_name_list:\n",
    "        team_dict[team.rstrip()] = Team(team)\n",
    "\n",
    "# parse rankings\n",
    "with open('../data/rankings.csv') as csv_file:\n",
    "    csv_reader = csv.reader(csv_file, delimiter=',')\n",
    "    line_count = 0\n",
    "    for row in csv_reader:\n",
    "        for team_name in team_dict.keys():\n",
    "            if team_name in row:\n",
    "                team_dict[team_name].stats.append(row[-1])\n",
    "                \n",
    "# check for errors in team names\n",
    "for team in team_dict.values():\n",
    "    if len(team.stats) == 0:\n",
    "        print(team.name)\n",
    "     \n",
    "lyst = []\n",
    "for val in team_dict.values():\n",
    "    if len(val.stats) == 32:\n",
    "        lyst.append(val.stats)\n",
    "    \n",
    "#print(lyst)\n",
    "X_train = np.array(lyst)  \n",
    "#X_train = X_train.T\n",
    "#print(X_train.T)\n",
    "#test = np.array([[1,2,3], [3,4,5]])\n",
    "\n",
    "    \n",
    "\n",
    "        "
   ]
  },
  {
   "cell_type": "code",
   "execution_count": 97,
   "metadata": {},
   "outputs": [
    {
     "name": "stdout",
     "output_type": "stream",
     "text": [
      "[0.23511863 0.17503097 0.15256348 0.10248067 0.07567492]\n",
      "[[ 0.28197846  0.2404247  -0.07357294  0.31242544  0.23287332 -0.2029196\n",
      "   0.09871077  0.11842536 -0.12522962  0.1064293   0.25976143  0.29006538\n",
      "   0.27033453  0.15735927 -0.05440919 -0.07739718 -0.0572079  -0.10867544\n",
      "   0.15553497  0.29093415  0.22761704 -0.00850488 -0.00850488  0.05233592\n",
      "   0.05233592 -0.05150035 -0.07302992 -0.09897042 -0.11838753  0.07657575\n",
      "   0.27200306  0.24914792]\n",
      " [-0.03070711 -0.03356184  0.04810681 -0.07761702 -0.13873885 -0.08976994\n",
      "  -0.24973555 -0.24545361 -0.01911754 -0.15043135  0.17008061 -0.0391831\n",
      "  -0.20593621  0.15879825 -0.00244089  0.28560193 -0.17291376  0.03514239\n",
      "   0.16322903 -0.01441587  0.2738132   0.27512657  0.27512657 -0.13615917\n",
      "  -0.13615917  0.01166696  0.30771782  0.20752097  0.00427806  0.30885006\n",
      "   0.10804358  0.26572937]\n",
      " [ 0.12506966  0.22826057  0.13079023  0.11643905  0.07352717  0.1255198\n",
      "   0.13442739 -0.03802761  0.02620979 -0.00530746 -0.10316936  0.09530865\n",
      "   0.04896206  0.02396526  0.3868674   0.03413095  0.32699868  0.19816019\n",
      "   0.04259341  0.12398767  0.01376393  0.15614523  0.15614523  0.19713865\n",
      "   0.19713865  0.39373084  0.07224421  0.22594105  0.39009027  0.11440707\n",
      "  -0.13745717 -0.03402932]\n",
      " [ 0.18493956 -0.23568287 -0.43148229  0.14427187 -0.09421512 -0.32809143\n",
      "  -0.19151845 -0.07881253 -0.32654388 -0.23209974 -0.04393375 -0.1519484\n",
      "   0.02159557  0.19541469  0.14268085 -0.20125089  0.24248545 -0.04746278\n",
      "   0.2048247  -0.12715824 -0.02472234 -0.0677132  -0.0677132  -0.1455912\n",
      "  -0.1455912   0.15630297 -0.16254392 -0.00436569  0.1308921   0.01791201\n",
      "  -0.11573452 -0.07581691]\n",
      " [-0.00574223 -0.13190362 -0.14517885 -0.00567944 -0.32958203 -0.04321145\n",
      "   0.3316397  -0.11462032 -0.0767863  -0.13364351  0.09489839 -0.14569122\n",
      "  -0.09107725 -0.03839991 -0.1074679  -0.04861164 -0.02600691 -0.17232284\n",
      "  -0.0097468  -0.09102055  0.17743468 -0.11692869 -0.11692869  0.48866564\n",
      "   0.48866564 -0.06569864  0.02067568  0.10625203 -0.06205103  0.20950079\n",
      "  -0.03325937  0.10063333]]\n"
     ]
    },
    {
     "name": "stderr",
     "output_type": "stream",
     "text": [
      "/usr/local/lib/python3.7/site-packages/sklearn/utils/validation.py:595: DataConversionWarning: Data with input dtype <U5 was converted to float64 by StandardScaler.\n",
      "  warnings.warn(msg, DataConversionWarning)\n",
      "/usr/local/lib/python3.7/site-packages/sklearn/utils/validation.py:595: DataConversionWarning: Data with input dtype <U5 was converted to float64 by StandardScaler.\n",
      "  warnings.warn(msg, DataConversionWarning)\n"
     ]
    }
   ],
   "source": [
    "sc = StandardScaler()\n",
    "pca = PCA(n_components=5)\n",
    "X_train = sc.fit_transform(X_train) \n",
    "X_train = pca.fit_transform(X_train) \n",
    "#print(X_train)\n",
    "explained_variance = pca.explained_variance_ratio_\n",
    "print(explained_variance)\n",
    "print(pca.components_)"
   ]
  },
  {
   "cell_type": "code",
   "execution_count": null,
   "metadata": {},
   "outputs": [],
   "source": []
  },
  {
   "cell_type": "code",
   "execution_count": null,
   "metadata": {},
   "outputs": [],
   "source": []
  }
 ],
 "metadata": {
  "kernelspec": {
   "display_name": "Python 3",
   "language": "python",
   "name": "python3"
  },
  "language_info": {
   "codemirror_mode": {
    "name": "ipython",
    "version": 3
   },
   "file_extension": ".py",
   "mimetype": "text/x-python",
   "name": "python",
   "nbconvert_exporter": "python",
   "pygments_lexer": "ipython3",
   "version": "3.7.0"
  }
 },
 "nbformat": 4,
 "nbformat_minor": 2
}
