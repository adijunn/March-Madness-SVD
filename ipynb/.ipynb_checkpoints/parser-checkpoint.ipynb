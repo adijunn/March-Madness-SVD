{
 "cells": [
  {
   "cell_type": "code",
   "execution_count": 36,
   "metadata": {},
   "outputs": [],
   "source": [
    "import csv"
   ]
  },
  {
   "cell_type": "code",
   "execution_count": 37,
   "metadata": {},
   "outputs": [],
   "source": [
    "def get_stats():\n",
    "    \"\"\"Returns team stats in dictionary form and matrix form\"\"\"\n",
    "    team_dict = {}\n",
    "    # parse team names\n",
    "    with open('../data/teams.txt') as teams:\n",
    "        team_name_list = teams.readlines()\n",
    "        for team in team_name_list:\n",
    "            team_dict[team.rstrip()] = Team(team)\n",
    "\n",
    "    # parse rankings\n",
    "    with open('../data/rankings.csv') as csv_file:\n",
    "        csv_reader = csv.reader(csv_file, delimiter=',')\n",
    "        line_count = 0\n",
    "        for row in csv_reader:\n",
    "            for team_name in team_dict.keys():\n",
    "                if team_name == \"Northeastern\" and \"REB MAR\" in row: # bad patch\n",
    "                     team_dict[team_name].stats.append(0)\n",
    "                elif team_name in row:\n",
    "                    team_dict[team_name].stats.append(row[-1])\n",
    "    matrix = np.array([t.stats for t in team_dict.values()])\n",
    "    return team_dict, matrix "
   ]
  },
  {
   "cell_type": "code",
   "execution_count": null,
   "metadata": {
    "collapsed": true
   },
   "outputs": [],
   "source": []
  }
 ],
 "metadata": {
  "kernelspec": {
   "display_name": "Python 3",
   "language": "python",
   "name": "python3"
  },
  "language_info": {
   "codemirror_mode": {
    "name": "ipython",
    "version": 3
   },
   "file_extension": ".py",
   "mimetype": "text/x-python",
   "name": "python",
   "nbconvert_exporter": "python",
   "pygments_lexer": "ipython3",
   "version": "3.6.1"
  }
 },
 "nbformat": 4,
 "nbformat_minor": 2
}
