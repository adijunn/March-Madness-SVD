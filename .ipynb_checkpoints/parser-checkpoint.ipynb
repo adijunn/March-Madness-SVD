{
 "cells": [
  {
   "cell_type": "code",
   "execution_count": 2,
   "metadata": {
    "collapsed": true
   },
   "outputs": [],
   "source": [
    "# setup\n",
    "import numpy as np\n",
    "import math\n",
    "import matplotlib.pyplot as plt\n",
    "from matplotlib import animation\n",
    "import pandas as pd\n",
    "import scipy.stats as stats\n",
    "#import utils\n",
    "import csv\n",
    "\n",
    "# from model import *\n",
    "% matplotlib inline"
   ]
  },
  {
   "cell_type": "code",
   "execution_count": 15,
   "metadata": {
    "collapsed": true
   },
   "outputs": [],
   "source": [
    "class Team:\n",
    "    def __init__(self, name):\n",
    "        self.name = name\n",
    "        self.stats = []"
   ]
  },
  {
   "cell_type": "code",
   "execution_count": 39,
   "metadata": {},
   "outputs": [],
   "source": [
    "team_dict = {}\n",
    "# parse team names\n",
    "with open('teams.txt') as teams:\n",
    "    team_name_list = teams.readlines()\n",
    "    for team in team_name_list:\n",
    "        team_dict[team.rstrip()] = Team(team)\n",
    "\n",
    "# parse rankings\n",
    "with open('rankings.csv') as csv_file:\n",
    "    csv_reader = csv.reader(csv_file, delimiter=',')\n",
    "    line_count = 0\n",
    "    for row in csv_reader:\n",
    "        for team_name in team_dict.keys():\n",
    "            if team_name in row:\n",
    "                team_dict[team_name].stats.append(row[-1])\n",
    "                \n",
    "# check for errors in team names\n",
    "for team in team_dict.values():\n",
    "    if len(team.stats) == 0:\n",
    "        print(team.name)\n",
    "        "
   ]
  },
  {
   "cell_type": "code",
   "execution_count": null,
   "metadata": {
    "collapsed": true
   },
   "outputs": [],
   "source": []
  }
 ],
 "metadata": {
  "kernelspec": {
   "display_name": "Python 3",
   "language": "python",
   "name": "python3"
  },
  "language_info": {
   "codemirror_mode": {
    "name": "ipython",
    "version": 3
   },
   "file_extension": ".py",
   "mimetype": "text/x-python",
   "name": "python",
   "nbconvert_exporter": "python",
   "pygments_lexer": "ipython3",
   "version": "3.6.1"
  }
 },
 "nbformat": 4,
 "nbformat_minor": 2
}
